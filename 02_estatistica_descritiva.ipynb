{
 "cells": [
  {
   "cell_type": "markdown",
   "metadata": {},
   "source": [
    "# **2. Estatística Descritiva**\n",
    "***"
   ]
  },
  {
   "cell_type": "markdown",
   "metadata": {},
   "source": [
    "## **Introdução**"
   ]
  },
  {
   "cell_type": "markdown",
   "metadata": {},
   "source": [
    "Como vimos, com a estatística descritiva podemos descrever e sintetizar dados, com o uso de gráficos e medidas, para se ter um melhor conhecimento sobre eles, mas sem tirar conclusões sobre o conjunto.\n",
    "\n",
    "Quando nos atemos ao estudo de uma única variável damos o nome de estatística descritiva univariada; com duas variáveis, estatística descritiva bivariada; três ou mais, estatística descritiva multivariada. Nesta fase do curso, vamos estudar estatística descritiva univariada e bivariada.\n",
    "\n"
   ]
  },
  {
   "cell_type": "markdown",
   "metadata": {},
   "source": [
    "## **Estatística Descritiva Univariada**"
   ]
  },
  {
   "cell_type": "markdown",
   "metadata": {},
   "source": [
    "A estatística descritiva univariada contempla as medidas de centralidade, de dispersão, de forma, tabelas de frequência e gráficos."
   ]
  },
  {
   "cell_type": "markdown",
   "metadata": {},
   "source": [
    "### **Medidas de centralidade ou posição**"
   ]
  },
  {
   "cell_type": "markdown",
   "metadata": {},
   "source": [
    "As medidadas de centralidade são medidas-resumo que representam o comportamento de uma variável, demonstrando a posição dos dados em relação aos valores que a variável assume no conjunto de dados. Podemos dividí-las em: \n",
    "- Medidas de tendência central: **média, mediana e moda.**\n",
    "- Medidas separatrizes: **percentis, quartis.**"
   ]
  },
  {
   "cell_type": "markdown",
   "metadata": {},
   "source": [
    "#### **Medidas de tendência central**"
   ]
  },
  {
   "cell_type": "markdown",
   "metadata": {},
   "source": [
    "##### **Média aritimética**\n",
    "\n",
    "Obtida pela soma dos valores de uma variável (discreta ou contínua) divida pela número de observações dessa variável, a média aritmética é o valor que, se substituísse todos os valores de uma determinada variável, a soma dos valores dessa variável não seria alterada.\n",
    "\n",
    "Popularmente utilizamos a \"média\" constantemente no dia a dia, com um certo feeling ou chute do seu valor.\n",
    "\n",
    "A média aritmética $\\overline{x}$ de um conjunto de valores  $x_{1}, x_{2}, \\dots, x_{n}$ é dada pela fórmula: \n",
    "\n",
    "\\begin{align*}\n",
    "\\bar{x} = \\frac{1}{n} \\sum_{i=1}^n x_i\n",
    "\\end{align*}\n",
    "\n",
    "onde: \n",
    "- ${n}$ é o número total de valores.\n",
    "- e ${x}$ é o valor observado para cada instância da variável."
   ]
  },
  {
   "cell_type": "code",
   "execution_count": 3,
   "metadata": {},
   "outputs": [],
   "source": [
    "import numpy as np"
   ]
  },
  {
   "cell_type": "code",
   "execution_count": 13,
   "metadata": {},
   "outputs": [],
   "source": [
    "np.random.seed(42) # Define uma semente de aleatoriedade, para obtermos os mesmos resultados ao executarmos métodos que geram números pseudo-aleatórios.\n",
    "random_numbers = np.random.randint(low=1, high=100, size=30)"
   ]
  },
  {
   "cell_type": "code",
   "execution_count": null,
   "metadata": {},
   "outputs": [
    {
     "name": "stdout",
     "output_type": "stream",
     "text": [
      "51.56666666666667\n",
      "51.56666666666667\n"
     ]
    }
   ],
   "source": [
    "# De forma manual\n",
    "print(sum(random_numbers) / len(random_numbers))\n",
    "\n",
    "# Com o Numpy\n",
    "print(np.mean(random_numbers))"
   ]
  },
  {
   "cell_type": "code",
   "execution_count": 6,
   "metadata": {},
   "outputs": [],
   "source": [
    "import pandas as pd"
   ]
  },
  {
   "cell_type": "code",
   "execution_count": 7,
   "metadata": {},
   "outputs": [
    {
     "data": {
      "text/html": [
       "<div>\n",
       "<style scoped>\n",
       "    .dataframe tbody tr th:only-of-type {\n",
       "        vertical-align: middle;\n",
       "    }\n",
       "\n",
       "    .dataframe tbody tr th {\n",
       "        vertical-align: top;\n",
       "    }\n",
       "\n",
       "    .dataframe thead th {\n",
       "        text-align: right;\n",
       "    }\n",
       "</style>\n",
       "<table border=\"1\" class=\"dataframe\">\n",
       "  <thead>\n",
       "    <tr style=\"text-align: right;\">\n",
       "      <th></th>\n",
       "      <th>TICKER</th>\n",
       "      <th>EMPRESA</th>\n",
       "      <th>SETORES</th>\n",
       "      <th>PRECO</th>\n",
       "      <th>DY</th>\n",
       "      <th>P/L</th>\n",
       "      <th>P/VP</th>\n",
       "      <th>P/ATIVOS</th>\n",
       "      <th>MARGEM BRUTA</th>\n",
       "      <th>MARGEM EBIT</th>\n",
       "      <th>...</th>\n",
       "      <th>PATRIMONIO / ATIVOS</th>\n",
       "      <th>PASSIVOS / ATIVOS</th>\n",
       "      <th>GIRO ATIVOS</th>\n",
       "      <th>CAGR RECEITAS 5 ANOS</th>\n",
       "      <th>CAGR LUCROS 5 ANOS</th>\n",
       "      <th>LIQUIDEZ MEDIA DIARIA</th>\n",
       "      <th>VPA</th>\n",
       "      <th>LPA</th>\n",
       "      <th>PEG Ratio</th>\n",
       "      <th>VALOR DE MERCADO</th>\n",
       "    </tr>\n",
       "  </thead>\n",
       "  <tbody>\n",
       "    <tr>\n",
       "      <th>0</th>\n",
       "      <td>BRAV3</td>\n",
       "      <td>Brava Energia</td>\n",
       "      <td>Petróleo, Gás e Biocombustíveis</td>\n",
       "      <td>16.95</td>\n",
       "      <td>2.27</td>\n",
       "      <td>-27.53</td>\n",
       "      <td>1.59</td>\n",
       "      <td>0.36</td>\n",
       "      <td>30.69</td>\n",
       "      <td>25.07</td>\n",
       "      <td>...</td>\n",
       "      <td>0.23</td>\n",
       "      <td>0.77</td>\n",
       "      <td>0.40</td>\n",
       "      <td>178.26</td>\n",
       "      <td>NaN</td>\n",
       "      <td>1.720014e+08</td>\n",
       "      <td>10.65</td>\n",
       "      <td>-0.62</td>\n",
       "      <td>0.17</td>\n",
       "      <td>7.867836e+09</td>\n",
       "    </tr>\n",
       "    <tr>\n",
       "      <th>1</th>\n",
       "      <td>AESB3</td>\n",
       "      <td>AES Brasil</td>\n",
       "      <td>Energia Elétrica</td>\n",
       "      <td>11.78</td>\n",
       "      <td>0.63</td>\n",
       "      <td>-53.37</td>\n",
       "      <td>1.67</td>\n",
       "      <td>0.35</td>\n",
       "      <td>31.51</td>\n",
       "      <td>25.36</td>\n",
       "      <td>...</td>\n",
       "      <td>0.21</td>\n",
       "      <td>0.74</td>\n",
       "      <td>0.18</td>\n",
       "      <td>NaN</td>\n",
       "      <td>NaN</td>\n",
       "      <td>6.558786e+07</td>\n",
       "      <td>7.06</td>\n",
       "      <td>-0.22</td>\n",
       "      <td>0.28</td>\n",
       "      <td>7.115705e+09</td>\n",
       "    </tr>\n",
       "    <tr>\n",
       "      <th>2</th>\n",
       "      <td>AURE3</td>\n",
       "      <td>Auren Energia</td>\n",
       "      <td>Energia Elétrica</td>\n",
       "      <td>10.40</td>\n",
       "      <td>18.27</td>\n",
       "      <td>-26.96</td>\n",
       "      <td>0.84</td>\n",
       "      <td>0.36</td>\n",
       "      <td>20.59</td>\n",
       "      <td>20.40</td>\n",
       "      <td>...</td>\n",
       "      <td>0.42</td>\n",
       "      <td>0.58</td>\n",
       "      <td>0.21</td>\n",
       "      <td>NaN</td>\n",
       "      <td>NaN</td>\n",
       "      <td>5.283222e+07</td>\n",
       "      <td>12.32</td>\n",
       "      <td>-0.39</td>\n",
       "      <td>0.24</td>\n",
       "      <td>1.040000e+10</td>\n",
       "    </tr>\n",
       "    <tr>\n",
       "      <th>3</th>\n",
       "      <td>ALPA4</td>\n",
       "      <td>Alpargatas</td>\n",
       "      <td>Consumo Cíclico</td>\n",
       "      <td>6.94</td>\n",
       "      <td>NaN</td>\n",
       "      <td>-3.03</td>\n",
       "      <td>1.22</td>\n",
       "      <td>0.72</td>\n",
       "      <td>42.42</td>\n",
       "      <td>-41.40</td>\n",
       "      <td>...</td>\n",
       "      <td>0.59</td>\n",
       "      <td>0.41</td>\n",
       "      <td>0.59</td>\n",
       "      <td>-0.89</td>\n",
       "      <td>NaN</td>\n",
       "      <td>2.022729e+07</td>\n",
       "      <td>5.71</td>\n",
       "      <td>-2.29</td>\n",
       "      <td>-0.01</td>\n",
       "      <td>4.658969e+09</td>\n",
       "    </tr>\n",
       "    <tr>\n",
       "      <th>4</th>\n",
       "      <td>ABEV3</td>\n",
       "      <td>Ambev</td>\n",
       "      <td>Bebidas e Alimentos</td>\n",
       "      <td>12.88</td>\n",
       "      <td>5.67</td>\n",
       "      <td>14.10</td>\n",
       "      <td>2.13</td>\n",
       "      <td>1.41</td>\n",
       "      <td>50.83</td>\n",
       "      <td>23.88</td>\n",
       "      <td>...</td>\n",
       "      <td>0.66</td>\n",
       "      <td>0.33</td>\n",
       "      <td>0.56</td>\n",
       "      <td>9.68</td>\n",
       "      <td>5.54</td>\n",
       "      <td>4.141447e+08</td>\n",
       "      <td>6.05</td>\n",
       "      <td>0.91</td>\n",
       "      <td>17.06</td>\n",
       "      <td>2.029586e+11</td>\n",
       "    </tr>\n",
       "  </tbody>\n",
       "</table>\n",
       "<p>5 rows × 32 columns</p>\n",
       "</div>"
      ],
      "text/plain": [
       "  TICKER        EMPRESA                          SETORES  PRECO     DY    P/L  \\\n",
       "0  BRAV3  Brava Energia  Petróleo, Gás e Biocombustíveis  16.95   2.27 -27.53   \n",
       "1  AESB3     AES Brasil                 Energia Elétrica  11.78   0.63 -53.37   \n",
       "2  AURE3  Auren Energia                 Energia Elétrica  10.40  18.27 -26.96   \n",
       "3  ALPA4     Alpargatas                  Consumo Cíclico   6.94    NaN  -3.03   \n",
       "4  ABEV3          Ambev              Bebidas e Alimentos  12.88   5.67  14.10   \n",
       "\n",
       "   P/VP  P/ATIVOS  MARGEM BRUTA  MARGEM EBIT  ...  PATRIMONIO / ATIVOS  \\\n",
       "0  1.59      0.36         30.69        25.07  ...                 0.23   \n",
       "1  1.67      0.35         31.51        25.36  ...                 0.21   \n",
       "2  0.84      0.36         20.59        20.40  ...                 0.42   \n",
       "3  1.22      0.72         42.42       -41.40  ...                 0.59   \n",
       "4  2.13      1.41         50.83        23.88  ...                 0.66   \n",
       "\n",
       "   PASSIVOS / ATIVOS  GIRO ATIVOS  CAGR RECEITAS 5 ANOS  CAGR LUCROS 5 ANOS  \\\n",
       "0               0.77         0.40                178.26                 NaN   \n",
       "1               0.74         0.18                   NaN                 NaN   \n",
       "2               0.58         0.21                   NaN                 NaN   \n",
       "3               0.41         0.59                 -0.89                 NaN   \n",
       "4               0.33         0.56                  9.68                5.54   \n",
       "\n",
       "    LIQUIDEZ MEDIA DIARIA    VPA   LPA   PEG Ratio   VALOR DE MERCADO  \n",
       "0            1.720014e+08  10.65 -0.62        0.17       7.867836e+09  \n",
       "1            6.558786e+07   7.06 -0.22        0.28       7.115705e+09  \n",
       "2            5.283222e+07  12.32 -0.39        0.24       1.040000e+10  \n",
       "3            2.022729e+07   5.71 -2.29       -0.01       4.658969e+09  \n",
       "4            4.141447e+08   6.05  0.91       17.06       2.029586e+11  \n",
       "\n",
       "[5 rows x 32 columns]"
      ]
     },
     "execution_count": 7,
     "metadata": {},
     "output_type": "execute_result"
    }
   ],
   "source": [
    "ibov = pd.read_csv('data/ibov.csv', sep=',')\n",
    "ibov.head()"
   ]
  },
  {
   "cell_type": "code",
   "execution_count": 8,
   "metadata": {},
   "outputs": [
    {
     "data": {
      "text/plain": [
       "np.float64(22.982083333333332)"
      ]
     },
     "execution_count": 8,
     "metadata": {},
     "output_type": "execute_result"
    }
   ],
   "source": [
    "ibov['PRECO'].mean()"
   ]
  },
  {
   "cell_type": "code",
   "execution_count": 9,
   "metadata": {},
   "outputs": [
    {
     "name": "stdout",
     "output_type": "stream",
     "text": [
      "[2.91, 3.85, 4.38, 5.62, 5.93, 6.94, 7.09, 9.18, 9.4, 9.9, 10.4, 10.61, 10.65, 11.04, 11.67, 11.78, 11.81, 12.2, 12.88, 13.34, 14.55, 14.89, 15.32, 16.95, 17.64, 19.19, 21.66, 22.25, 22.61, 24.35, 26.69, 28.54, 28.64, 29.94, 32.6, 33.13, 35.32, 36.83, 37.77, 40.37, 42.11, 42.18, 43.55, 47.98, 54.81, 55.22, 55.77, 60.7]\n"
     ]
    }
   ],
   "source": [
    "lista_precos = ibov['PRECO'].tolist()\n",
    "lista_precos.sort()\n",
    "print(lista_precos)"
   ]
  },
  {
   "cell_type": "markdown",
   "metadata": {},
   "source": [
    "Aqui vemos que a média dos preços das ações é 22.98, mas há valores muito abaixo e muito acima disso. Mesmo não alterando a soma deles, é justo utilizar somente ela para representar nosso conjunto de preços?\n",
    "Vamos adiantar uma medida de dispersão aqui, o *desvio padrão*, para entendermos isso melhor. "
   ]
  },
  {
   "cell_type": "code",
   "execution_count": 10,
   "metadata": {},
   "outputs": [
    {
     "data": {
      "text/plain": [
       "np.float64(15.882289207195319)"
      ]
     },
     "execution_count": 10,
     "metadata": {},
     "output_type": "execute_result"
    }
   ],
   "source": [
    "ibov['PRECO'].std()"
   ]
  },
  {
   "cell_type": "markdown",
   "metadata": {},
   "source": [
    "Esse resultado significa que os valores estão, em média, R$15.88  dispersados ao redor da média de R$22.98. Quanto menor for este valor, mais próximos os valores reais serão da média aritmética. \n",
    "\n",
    "Esse pequeno *spoiler* do desvio padrão foi para entendermos que a média é bastante sensível a valores discrepantes, *outliers*, e devemos tomar cuidado ao utilizá-la sozinha."
   ]
  },
  {
   "cell_type": "markdown",
   "metadata": {},
   "source": [
    "##### **Mediana**"
   ]
  },
  {
   "cell_type": "markdown",
   "metadata": {},
   "source": [
    "A mediana é uma medida que localiza o centro da distribuição dos dados, separando-os em duas metades, os 50% menores e os 50% maiores. Ela, portanto, não é sensível a outliers, como a média.\n",
    "\n",
    "\n",
    "A mediana ${Md}({X})$ de uma variável ${X}$ é dada por: \n",
    "\n",
    "- Se ${n}$ é ímpar: ${Md({X})} = X_{\\left(\\frac{n + 1}{2}\\right)}$ ou, de forma mais simples, $\\frac{n + 1}{2}$\n",
    "  \n",
    "- Se ${n}$ é par: ${Md({X})} = \\frac{X_{\\left(\\frac{n}{2}\\right)} + X_{\\left(\\frac{n}{2} + 1\\right)}}{2}$ ou, de forma mais simples,  $\\frac{{\\left(\\frac{n}{2}\\right)} + {\\left(\\frac{n}{2} + 1\\right)}}{2}$\n",
    "\n",
    "  \n",
    "onde: \n",
    "- ${n}$ é o número total de valores.\n",
    "- e ${Xn}$ é o valor correspondente ao último elemento da distribuição da variável."
   ]
  },
  {
   "cell_type": "code",
   "execution_count": 52,
   "metadata": {},
   "outputs": [
    {
     "name": "stdout",
     "output_type": "stream",
     "text": [
      "Tamanho do array: 30\n",
      "55.5\n",
      "55.5\n"
     ]
    }
   ],
   "source": [
    "random_numbers_ordered = np.sort(random_numbers) # Ordena o array\n",
    "print(f\"Tamanho do array: {len(random_numbers_ordered)}\") # n É par\n",
    "\n",
    "# De forma manual\n",
    "n1=int(len(random_numbers_ordered)/2 - 1) # O Python começa a contar do zero\n",
    "n2=int(len(random_numbers_ordered)/2)\n",
    "print((random_numbers_ordered[n1] + random_numbers_ordered[n2]) / 2)\n",
    "\n",
    "# Com o Numpy\n",
    "print(np.median(random_numbers))"
   ]
  },
  {
   "cell_type": "code",
   "execution_count": 58,
   "metadata": {},
   "outputs": [
    {
     "name": "stdout",
     "output_type": "stream",
     "text": [
      "[ 2  2  3 15 21 21 22 22 24 30 33 38 49 52 53 58 60 61 64 72 75 75 76 83\n",
      " 87 88 88 89 91 93]\n"
     ]
    },
    {
     "data": {
      "text/plain": [
       "<Axes: >"
      ]
     },
     "execution_count": 58,
     "metadata": {},
     "output_type": "execute_result"
    },
    {
     "data": {
      "image/png": "[encoded data removed]",
      "text/plain": [
       "<Figure size 640x480 with 1 Axes>"
      ]
     },
     "metadata": {},
     "output_type": "display_data"
    }
   ],
   "source": [
    "print(random_numbers_ordered)\n",
    "\n",
    "pd.Series(random_numbers_ordered).hist()"
   ]
  },
  {
   "cell_type": "code",
   "execution_count": 60,
   "metadata": {},
   "outputs": [
    {
     "data": {
      "text/plain": [
       "np.float64(17.295)"
      ]
     },
     "execution_count": 60,
     "metadata": {},
     "output_type": "execute_result"
    }
   ],
   "source": [
    "ibov['PRECO'].median()"
   ]
  },
  {
   "cell_type": "markdown",
   "metadata": {},
   "source": [
    "Para a nossa variável \"PRECO\" temos média e mediana relativamente próximas."
   ]
  },
  {
   "cell_type": "markdown",
   "metadata": {},
   "source": [
    "##### **Moda**"
   ]
  },
  {
   "cell_type": "markdown",
   "metadata": {},
   "source": [
    "A moda de uma variável é o valor que ocorre com a maior frequência. Essa medida também pode ser usada em variáveis qualitativas, uma vez que trabalha apenas com a contagem dos valores.\n",
    "\n",
    "Uma distribuição pode ser uma moda, mais de uma moda (multimodal) ou até mesmo nenhuma (amodal)."
   ]
  },
  {
   "cell_type": "code",
   "execution_count": 67,
   "metadata": {},
   "outputs": [
    {
     "data": {
      "text/plain": [
       "0     2\n",
       "1    21\n",
       "2    22\n",
       "3    75\n",
       "4    88\n",
       "dtype: int32"
      ]
     },
     "execution_count": 67,
     "metadata": {},
     "output_type": "execute_result"
    }
   ],
   "source": [
    "pd.Series(random_numbers_ordered).mode()"
   ]
  },
  {
   "cell_type": "markdown",
   "metadata": {},
   "source": [
    "Nosso array de números pseudo-aleatórios é multimodal."
   ]
  },
  {
   "cell_type": "code",
   "execution_count": 66,
   "metadata": {},
   "outputs": [
    {
     "data": {
      "text/plain": [
       "0      2.91\n",
       "1      3.85\n",
       "2      4.38\n",
       "3      5.62\n",
       "4      5.93\n",
       "5      6.94\n",
       "6      7.09\n",
       "7      9.18\n",
       "8      9.40\n",
       "9      9.90\n",
       "10    10.40\n",
       "11    10.61\n",
       "12    10.65\n",
       "13    11.04\n",
       "14    11.67\n",
       "15    11.78\n",
       "16    11.81\n",
       "17    12.20\n",
       "18    12.88\n",
       "19    13.34\n",
       "20    14.55\n",
       "21    14.89\n",
       "22    15.32\n",
       "23    16.95\n",
       "24    17.64\n",
       "25    19.19\n",
       "26    21.66\n",
       "27    22.25\n",
       "28    22.61\n",
       "29    24.35\n",
       "30    26.69\n",
       "31    28.54\n",
       "32    28.64\n",
       "33    29.94\n",
       "34    32.60\n",
       "35    33.13\n",
       "36    35.32\n",
       "37    36.83\n",
       "38    37.77\n",
       "39    40.37\n",
       "40    42.11\n",
       "41    42.18\n",
       "42    43.55\n",
       "43    47.98\n",
       "44    54.81\n",
       "45    55.22\n",
       "46    55.77\n",
       "47    60.70\n",
       "Name: PRECO, dtype: float64"
      ]
     },
     "execution_count": 66,
     "metadata": {},
     "output_type": "execute_result"
    }
   ],
   "source": [
    "ibov['PRECO'].mode()"
   ]
  },
  {
   "cell_type": "markdown",
   "metadata": {},
   "source": [
    "Já a nossa variável \"PRECO\" não possui valor que se repete mais de uma vez, portanto amodal."
   ]
  },
  {
   "cell_type": "markdown",
   "metadata": {},
   "source": [
    "#### **Medida separatrizes**"
   ]
  },
  {
   "cell_type": "markdown",
   "metadata": {},
   "source": [
    "As medidas separatrizes dividem a distribuição de valores de uma variável em porções proporcionais. As mais comuns são os quartis (4 partes), decis (10 partes) e percentis (100 partes iguais). Assim, podemos ver principalmente a concentração de dados em determinada faixa de valores, adicionando mais contexto às medidas de tendência central."
   ]
  },
  {
   "cell_type": "markdown",
   "metadata": {},
   "source": [
    "##### **Quartis**"
   ]
  },
  {
   "cell_type": "markdown",
   "metadata": {},
   "source": [
    "Os quartis (${Qi, I =}$ ${1}$, ${2}$ e ${3}$) dividem uma distribuição em quatro partes iguais.\n",
    "\n",
    "<img src=\"images/quartis.png\" width=\"600\">\n",
    "\n",
    "- ${Q1}$: 1° quartil ou 25° percentil; posição na distribuição que separa os 25% menores dos 75% maiores valores.\n",
    "- ${Q2}$: 2° quartil, 50° percentil ou *mediana*; posição na distribuição que separa os 50% menores dos 50% maiores valores.\n",
    "- ${Q3}$: 3° quartil ou 75° percentil, posição na distribuição que separa os 75% menores dos 25% maiores valores.\n",
    "\n",
    "Para obter-se as posições de ${Q1}$ e ${Q3}$ (${Q2}$ é obtido pelo cálculo da mediana):\n",
    "\n",
    "${Q1 = }$ $\\frac{n + 1}{4}$\n",
    "\n",
    "${Q3 = }$ $3 \\frac{n + 1}{4}$\n"
   ]
  },
  {
   "cell_type": "code",
   "execution_count": null,
   "metadata": {},
   "outputs": [
    {
     "name": "stdout",
     "output_type": "stream",
     "text": [
      "Primeiro quartil: 22.5\n",
      "Segundo quartil: 55.5\n",
      "Terceiro quartil: 75.75\n"
     ]
    }
   ],
   "source": [
    "print(f\"Primeiro quartil: {np.percentile(random_numbers_ordered, 25)}\")\n",
    "print(f\"Segundo quartil: {np.percentile(random_numbers_ordered, 50)}\")\n",
    "print(f\"Terceiro quartil: {np.percentile(random_numbers_ordered, 75)}\")"
   ]
  },
  {
   "cell_type": "code",
   "execution_count": 75,
   "metadata": {},
   "outputs": [
    {
     "name": "stdout",
     "output_type": "stream",
     "text": [
      "count    48.000000\n",
      "mean     22.982083\n",
      "std      15.882289\n",
      "min       2.910000\n",
      "25%      10.640000\n",
      "50%      17.295000\n",
      "75%      33.677500\n",
      "max      60.700000\n",
      "Name: PRECO, dtype: float64 \n",
      "\n",
      "Primeiro quartil: 10.64\n",
      "Segundo quartil: 17.295\n",
      "Terceiro quartil: 33.6775\n"
     ]
    }
   ],
   "source": [
    "print(ibov['PRECO'].describe(), '\\n')\n",
    "\n",
    "print(f\"Primeiro quartil: {ibov['PRECO'].quantile(.25)}\")\n",
    "print(f\"Segundo quartil: {ibov['PRECO'].quantile(.5)}\")\n",
    "print(f\"Terceiro quartil: {ibov['PRECO'].quantile(.75)}\")"
   ]
  },
  {
   "cell_type": "markdown",
   "metadata": {},
   "source": [
    "Na nossa variável \"PRECO\", temos um terceiro quartil de 33.7 e um valor máximo de 60.7, indicando que os valores estão mais concentrados abaixo de 33."
   ]
  },
  {
   "cell_type": "code",
   "execution_count": 76,
   "metadata": {},
   "outputs": [
    {
     "data": {
      "text/plain": [
       "<Axes: >"
      ]
     },
     "execution_count": 76,
     "metadata": {},
     "output_type": "execute_result"
    },
    {
     "data": {
      "image/png": "[encoded data removed]",
      "text/plain": [
       "<Figure size 640x480 with 1 Axes>"
      ]
     },
     "metadata": {},
     "output_type": "display_data"
    }
   ],
   "source": [
    "ibov['PRECO'].hist()"
   ]
  },
  {
   "cell_type": "markdown",
   "metadata": {},
   "source": [
    "Existe uma outra visualização bastante interessante para ver como os dados de uma variável se concentram e analisar outliers, o *boxplot*."
   ]
  },
  {
   "cell_type": "markdown",
   "metadata": {},
   "source": [
    "##### **Analisando *outliers***"
   ]
  },
  {
   "cell_type": "markdown",
   "metadata": {},
   "source": []
  },
  {
   "cell_type": "code",
   "execution_count": null,
   "metadata": {},
   "outputs": [],
   "source": []
  },
  {
   "cell_type": "markdown",
   "metadata": {},
   "source": [
    "### **Medidas de dispersão ou variabilidade**"
   ]
  },
  {
   "cell_type": "code",
   "execution_count": null,
   "metadata": {},
   "outputs": [],
   "source": []
  },
  {
   "cell_type": "markdown",
   "metadata": {},
   "source": [
    "### **Medidas de forma**"
   ]
  },
  {
   "cell_type": "code",
   "execution_count": null,
   "metadata": {},
   "outputs": [],
   "source": []
  },
  {
   "cell_type": "markdown",
   "metadata": {},
   "source": [
    "### **Visualização de dados**"
   ]
  },
  {
   "cell_type": "code",
   "execution_count": null,
   "metadata": {},
   "outputs": [],
   "source": []
  },
  {
   "cell_type": "markdown",
   "metadata": {},
   "source": [
    "## **Estatística Descritiva Bivariada**"
   ]
  },
  {
   "cell_type": "markdown",
   "metadata": {},
   "source": [
    "### **Associação entre duas variáveis qualitativas**"
   ]
  },
  {
   "cell_type": "code",
   "execution_count": null,
   "metadata": {},
   "outputs": [],
   "source": []
  },
  {
   "cell_type": "markdown",
   "metadata": {},
   "source": [
    "### **Correlação entre duas variáveis quantitativas**"
   ]
  },
  {
   "cell_type": "code",
   "execution_count": null,
   "metadata": {},
   "outputs": [],
   "source": []
  },
  {
   "cell_type": "markdown",
   "metadata": {},
   "source": [
    "#"
   ]
  },
  {
   "cell_type": "markdown",
   "metadata": {},
   "source": [
    "***\n",
    "**Referências:**\n",
    "\n",
    "- Fávero, L. P.; Belfiore, P. 2017. Manual de Análise de Dados: Estatística e Modelagem Multivariada com Excel, SPSS e Stata. 1ed. Editora LTC, Rio de Janeiro, RJ, Brasil."
   ]
  }
 ],
 "metadata": {
  "kernelspec": {
   "display_name": "venv",
   "language": "python",
   "name": "python3"
  },
  "language_info": {
   "codemirror_mode": {
    "name": "ipython",
    "version": 3
   },
   "file_extension": ".py",
   "mimetype": "text/x-python",
   "name": "python",
   "nbconvert_exporter": "python",
   "pygments_lexer": "ipython3",
   "version": "3.13.0"
  }
 },
 "nbformat": 4,
 "nbformat_minor": 2
}
